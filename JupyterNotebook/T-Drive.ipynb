{
 "cells": [
  {
   "cell_type": "markdown",
   "metadata": {},
   "source": [
    "# T-Drive Trajectory Data\n",
    "\n",
    "Microsoft Research: http://research.microsoft.com/apps/pubs/?id=152883  \n",
    "    \n",
    "This is a sample of T-Drive trajectory dataset that contains a one-week trajectories of 10,357 taxis. The total number of points in this dataset is about 15 million and the total distance of the trajectories reaches 9 million kilometers.\n",
    "\n",
    "- Fields:\n",
    "    - Taxi Id (Integer)\n",
    "    - Date time (Timestamp)\n",
    "    - Longitude (Degrees) \n",
    "    - Latitude (Degrees)"
   ]
  },
  {
   "cell_type": "code",
   "execution_count": 4,
   "metadata": {
    "collapsed": true
   },
   "outputs": [],
   "source": [
    "#from pykalman import KalmanFilter\n",
    "import pandas as pd\n",
    "import numpy as np\n",
    "import os \n",
    "import matplotlib.pyplot as plt\n",
    "%matplotlib inline"
   ]
  },
  {
   "cell_type": "code",
   "execution_count": 6,
   "metadata": {
    "collapsed": true
   },
   "outputs": [],
   "source": [
    "import pymongo\n",
    "from pymongo import MongoClient"
   ]
  },
  {
   "cell_type": "markdown",
   "metadata": {},
   "source": [
    "## Read"
   ]
  },
  {
   "cell_type": "markdown",
   "metadata": {},
   "source": [
    "- From Files"
   ]
  },
  {
   "cell_type": "code",
   "execution_count": 1,
   "metadata": {
    "collapsed": true
   },
   "outputs": [],
   "source": [
    "def get_files (path):\n",
    "    all_files = []\n",
    "    for root, dirs, files in os.walk(path):\n",
    "        for name in files:\n",
    "            all_files.append(os.path.join(root, name))\n",
    "    return all_files\n",
    "    "
   ]
  },
  {
   "cell_type": "code",
   "execution_count": 2,
   "metadata": {
    "collapsed": true
   },
   "outputs": [],
   "source": [
    "def get_data_file(path):\n",
    "    return pd.read_csv(path, infer_datetime_format=True,\\\n",
    "                       header=None, parse_dates=[1], \\\n",
    "                       names=['taxi_id', 'date_time', 'longitude', 'latitude'])"
   ]
  },
  {
   "cell_type": "code",
   "execution_count": 5,
   "metadata": {},
   "outputs": [
    {
     "name": "stdout",
     "output_type": "stream",
     "text": [
      "<class 'pandas.core.frame.DataFrame'>\n",
      "RangeIndex: 10088351 entries, 0 to 10088350\n",
      "Data columns (total 4 columns):\n",
      "taxi_id      object\n",
      "date_time    datetime64[ns]\n",
      "longitude    float64\n",
      "latitude     float64\n",
      "dtypes: datetime64[ns](1), float64(2), object(1)\n",
      "memory usage: 307.9+ MB\n"
     ]
    }
   ],
   "source": [
    "data = []\n",
    "file = '../DATASET'\n",
    "all_files = get_files(file)\n",
    "\n",
    "for _, file_path in enumerate(all_files):\n",
    "    data.append(get_data_file(file_path))\n",
    "  \n",
    "data = pd.concat(data, ignore_index=True)\n",
    "data.info()"
   ]
  },
  {
   "cell_type": "markdown",
   "metadata": {},
   "source": [
    "- From CSV"
   ]
  },
  {
   "cell_type": "code",
   "execution_count": 6,
   "metadata": {},
   "outputs": [
    {
     "data": {
      "text/html": [
       "<div>\n",
       "<style>\n",
       "    .dataframe thead tr:only-child th {\n",
       "        text-align: right;\n",
       "    }\n",
       "\n",
       "    .dataframe thead th {\n",
       "        text-align: left;\n",
       "    }\n",
       "\n",
       "    .dataframe tbody tr th {\n",
       "        vertical-align: top;\n",
       "    }\n",
       "</style>\n",
       "<table border=\"1\" class=\"dataframe\">\n",
       "  <thead>\n",
       "    <tr style=\"text-align: right;\">\n",
       "      <th></th>\n",
       "      <th>taxi_id</th>\n",
       "      <th>date_time</th>\n",
       "      <th>longitude</th>\n",
       "      <th>latitude</th>\n",
       "    </tr>\n",
       "  </thead>\n",
       "  <tbody>\n",
       "    <tr>\n",
       "      <th>0</th>\n",
       "      <td>7156</td>\n",
       "      <td>2008-02-02 13:33:43</td>\n",
       "      <td>116.33659</td>\n",
       "      <td>39.82477</td>\n",
       "    </tr>\n",
       "    <tr>\n",
       "      <th>1</th>\n",
       "      <td>7156</td>\n",
       "      <td>2008-02-02 13:35:50</td>\n",
       "      <td>116.33886</td>\n",
       "      <td>39.82287</td>\n",
       "    </tr>\n",
       "    <tr>\n",
       "      <th>2</th>\n",
       "      <td>7156</td>\n",
       "      <td>2008-02-02 13:38:45</td>\n",
       "      <td>116.34124</td>\n",
       "      <td>39.83074</td>\n",
       "    </tr>\n",
       "    <tr>\n",
       "      <th>3</th>\n",
       "      <td>7156</td>\n",
       "      <td>2008-02-02 13:40:52</td>\n",
       "      <td>116.34016</td>\n",
       "      <td>39.84603</td>\n",
       "    </tr>\n",
       "    <tr>\n",
       "      <th>4</th>\n",
       "      <td>7156</td>\n",
       "      <td>2008-02-02 13:43:47</td>\n",
       "      <td>116.36671</td>\n",
       "      <td>39.85551</td>\n",
       "    </tr>\n",
       "  </tbody>\n",
       "</table>\n",
       "</div>"
      ],
      "text/plain": [
       "  taxi_id           date_time  longitude  latitude\n",
       "0    7156 2008-02-02 13:33:43  116.33659  39.82477\n",
       "1    7156 2008-02-02 13:35:50  116.33886  39.82287\n",
       "2    7156 2008-02-02 13:38:45  116.34124  39.83074\n",
       "3    7156 2008-02-02 13:40:52  116.34016  39.84603\n",
       "4    7156 2008-02-02 13:43:47  116.36671  39.85551"
      ]
     },
     "execution_count": 6,
     "metadata": {},
     "output_type": "execute_result"
    }
   ],
   "source": []
  },
  {
   "cell_type": "code",
   "execution_count": 2,
   "metadata": {
    "collapsed": true
   },
   "outputs": [],
   "source": [
    "data = pd.read_csv('data.csv')"
   ]
  },
  {
   "cell_type": "markdown",
   "metadata": {},
   "source": [
    "- From DB"
   ]
  },
  {
   "cell_type": "code",
   "execution_count": 24,
   "metadata": {
    "collapsed": true
   },
   "outputs": [],
   "source": [
    "def read_from_mongo(collection, opt, lmt):\n",
    "    return pd.DataFrame (list (collection.find(opt).limit(lmt)))"
   ]
  },
  {
   "cell_type": "code",
   "execution_count": 12,
   "metadata": {
    "collapsed": true
   },
   "outputs": [],
   "source": [
    "client = MongoClient('localhost', 27017)"
   ]
  },
  {
   "cell_type": "code",
   "execution_count": 13,
   "metadata": {
    "collapsed": true
   },
   "outputs": [],
   "source": [
    "db = client.trajectories"
   ]
  },
  {
   "cell_type": "code",
   "execution_count": 15,
   "metadata": {
    "collapsed": true
   },
   "outputs": [],
   "source": [
    "collection = db.tdrive"
   ]
  },
  {
   "cell_type": "code",
   "execution_count": null,
   "metadata": {
    "collapsed": true
   },
   "outputs": [],
   "source": [
    "dataset = read_from_mongo(collection=collection, opt={}, lmt=0)\n",
    "dataset.head()"
   ]
  },
  {
   "cell_type": "code",
   "execution_count": null,
   "metadata": {
    "collapsed": true
   },
   "outputs": [],
   "source": []
  },
  {
   "cell_type": "code",
   "execution_count": null,
   "metadata": {
    "collapsed": true
   },
   "outputs": [],
   "source": []
  },
  {
   "cell_type": "markdown",
   "metadata": {},
   "source": [
    "#### Export Data"
   ]
  },
  {
   "cell_type": "code",
   "execution_count": 145,
   "metadata": {
    "collapsed": true
   },
   "outputs": [],
   "source": [
    "data.to_csv('data.csv', index=False)"
   ]
  },
  {
   "cell_type": "markdown",
   "metadata": {},
   "source": [
    "## Show Data"
   ]
  },
  {
   "cell_type": "code",
   "execution_count": 3,
   "metadata": {},
   "outputs": [
    {
     "data": {
      "text/html": [
       "<div>\n",
       "<style>\n",
       "    .dataframe thead tr:only-child th {\n",
       "        text-align: right;\n",
       "    }\n",
       "\n",
       "    .dataframe thead th {\n",
       "        text-align: left;\n",
       "    }\n",
       "\n",
       "    .dataframe tbody tr th {\n",
       "        vertical-align: top;\n",
       "    }\n",
       "</style>\n",
       "<table border=\"1\" class=\"dataframe\">\n",
       "  <thead>\n",
       "    <tr style=\"text-align: right;\">\n",
       "      <th></th>\n",
       "      <th>taxi_id</th>\n",
       "      <th>date_time</th>\n",
       "      <th>longitude</th>\n",
       "      <th>latitude</th>\n",
       "    </tr>\n",
       "  </thead>\n",
       "  <tbody>\n",
       "    <tr>\n",
       "      <th>0</th>\n",
       "      <td>7156</td>\n",
       "      <td>2008-02-02 13:33:43</td>\n",
       "      <td>116.33659</td>\n",
       "      <td>39.82477</td>\n",
       "    </tr>\n",
       "    <tr>\n",
       "      <th>1</th>\n",
       "      <td>7156</td>\n",
       "      <td>2008-02-02 13:35:50</td>\n",
       "      <td>116.33886</td>\n",
       "      <td>39.82287</td>\n",
       "    </tr>\n",
       "    <tr>\n",
       "      <th>2</th>\n",
       "      <td>7156</td>\n",
       "      <td>2008-02-02 13:38:45</td>\n",
       "      <td>116.34124</td>\n",
       "      <td>39.83074</td>\n",
       "    </tr>\n",
       "    <tr>\n",
       "      <th>3</th>\n",
       "      <td>7156</td>\n",
       "      <td>2008-02-02 13:40:52</td>\n",
       "      <td>116.34016</td>\n",
       "      <td>39.84603</td>\n",
       "    </tr>\n",
       "    <tr>\n",
       "      <th>4</th>\n",
       "      <td>7156</td>\n",
       "      <td>2008-02-02 13:43:47</td>\n",
       "      <td>116.36671</td>\n",
       "      <td>39.85551</td>\n",
       "    </tr>\n",
       "  </tbody>\n",
       "</table>\n",
       "</div>"
      ],
      "text/plain": [
       "   taxi_id            date_time  longitude  latitude\n",
       "0     7156  2008-02-02 13:33:43  116.33659  39.82477\n",
       "1     7156  2008-02-02 13:35:50  116.33886  39.82287\n",
       "2     7156  2008-02-02 13:38:45  116.34124  39.83074\n",
       "3     7156  2008-02-02 13:40:52  116.34016  39.84603\n",
       "4     7156  2008-02-02 13:43:47  116.36671  39.85551"
      ]
     },
     "execution_count": 3,
     "metadata": {},
     "output_type": "execute_result"
    }
   ],
   "source": [
    "data.head()"
   ]
  },
  {
   "cell_type": "code",
   "execution_count": 4,
   "metadata": {},
   "outputs": [
    {
     "name": "stdout",
     "output_type": "stream",
     "text": [
      "<class 'pandas.core.frame.DataFrame'>\n",
      "RangeIndex: 10088351 entries, 0 to 10088350\n",
      "Data columns (total 4 columns):\n",
      "taxi_id      int64\n",
      "date_time    object\n",
      "longitude    float64\n",
      "latitude     float64\n",
      "dtypes: float64(2), int64(1), object(1)\n",
      "memory usage: 307.9+ MB\n"
     ]
    }
   ],
   "source": [
    "data.info()"
   ]
  },
  {
   "cell_type": "markdown",
   "metadata": {},
   "source": [
    "###### Pegar os dados duplicados mas sem alterar o original"
   ]
  },
  {
   "cell_type": "code",
   "execution_count": 56,
   "metadata": {
    "collapsed": true
   },
   "outputs": [],
   "source": [
    "#data.drop_duplicates(inplace=True)\n",
    "#data.info()\n",
    "dup = data.duplicated()\n",
    "duplicated_values = []\n",
    "for i in range(len(data.values)):\n",
    "    if (dup[i] == True):\n",
    "        duplicated_values.append(data.values[i])\n",
    "        duplicated_values = pd.DataFrame(duplicated_values, columns=['taxi_id', 'date_time', 'longitude', 'latitude'])"
   ]
  },
  {
   "cell_type": "markdown",
   "metadata": {},
   "source": [
    "##### Others Functions"
   ]
  },
  {
   "cell_type": "code",
   "execution_count": 121,
   "metadata": {
    "collapsed": true
   },
   "outputs": [],
   "source": [
    "def is_in_interval_in_minutes(date1, date2, interval):\n",
    "    dt = date2 - date1\n",
    "    itv = dt / np.timedelta64(1, 'm')\n",
    "    return itv < interval"
   ]
  },
  {
   "cell_type": "code",
   "execution_count": 81,
   "metadata": {
    "collapsed": true
   },
   "outputs": [],
   "source": [
    "def calculate_distance (point1, point2):\n",
    "    point1 *= np.pi / 180\n",
    "    point2 *= np.pi / 180\n",
    "    \n",
    "    x = (point2['longitude'] - point1['longitude']) * np.cos((point1['latitude'] + point2['latitude']) / 2)\n",
    "    y = point2['latitude'] - point1['latitude']\n",
    "    \n",
    "    distance = np.sqrt(x ** 2 + y ** 2) * 6371 * 1000\n",
    "    return distance"
   ]
  },
  {
   "cell_type": "markdown",
   "metadata": {},
   "source": [
    "\n",
    "# Plot"
   ]
  },
  {
   "cell_type": "code",
   "execution_count": 132,
   "metadata": {},
   "outputs": [
    {
     "name": "stdout",
     "output_type": "stream",
     "text": [
      "True\n"
     ]
    },
    {
     "data": {
      "text/plain": [
       "array(['2008-02-02T13:34:52.000000000', '2008-02-02T13:39:08.000000000',\n",
       "       '2008-02-02T13:49:11.000000000', '2008-02-02T13:49:57.000000000',\n",
       "       '2008-02-02T13:54:13.000000000'], dtype='datetime64[ns]')"
      ]
     },
     "execution_count": 132,
     "metadata": {},
     "output_type": "execute_result"
    }
   ],
   "source": [
    "grouped = data.sort_values('date_time').groupby('taxi_id')\n",
    "datetimes = np.array(grouped.date_time.head())\n",
    "print (is_in_interval_in_minutes(datetimes[0], datetimes[1], 10))\n",
    "datetimes"
   ]
  },
  {
   "cell_type": "code",
   "execution_count": 147,
   "metadata": {},
   "outputs": [
    {
     "data": {
      "image/png": "[encoded data removed]",
      "text/plain": [
       "<matplotlib.figure.Figure at 0x7fa448303fd0>"
      ]
     },
     "metadata": {},
     "output_type": "display_data"
    }
   ],
   "source": [
    "plt.plot(data['longitude'][:5], data['latitude'][:5])\n",
    "plt.title('Positions')\n",
    "plt.xlabel('Longitude')\n",
    "plt.ylabel('Latitude')\n",
    "plt.grid(True)"
   ]
  },
  {
   "cell_type": "markdown",
   "metadata": {},
   "source": [
    "## TESTANDO PLOT MAPA "
   ]
  },
  {
   "cell_type": "code",
   "execution_count": 5,
   "metadata": {
    "collapsed": true
   },
   "outputs": [],
   "source": [
    "import folium"
   ]
  },
  {
   "cell_type": "code",
   "execution_count": 6,
   "metadata": {
    "collapsed": true
   },
   "outputs": [],
   "source": [
    "map_osm = folium.Map(location=[39.91, 116.40])"
   ]
  },
  {
   "cell_type": "code",
   "execution_count": 6,
   "metadata": {},
   "outputs": [
    {
     "data": {
      "text/plain": [
       "<folium.map.Marker at 0x7f30bb5511d0>"
      ]
     },
     "execution_count": 6,
     "metadata": {},
     "output_type": "execute_result"
    }
   ],
   "source": [
    "folium.Marker([45.3288, -121.6625], popup='Mt. Hood Meadows').add_to(map_osm)\n",
    "folium.Marker([39.82477, 116.33659], popup='Mt. Hood Meadows').add_to(map_osm)\n",
    "folium.Marker([39.82287, 116.33886], popup='Mt. Hood Meadows').add_to(map_osm)\n",
    "folium.Marker([39.83074, 116.34124], popup='Mt. Hood Meadows').add_to(map_osm)\n",
    "folium.Marker([39.84603, 116.34016], popup='Mt. Hood Meadows').add_to(map_osm)\n",
    "folium.Marker([39.85551, 116.36671], popup='Mt. Hood Meadows').add_to(map_osm)"
   ]
  },
  {
   "cell_type": "code",
   "execution_count": 7,
   "metadata": {
    "collapsed": true
   },
   "outputs": [],
   "source": [
    "map_osm.save('osm.html')"
   ]
  },
  {
   "cell_type": "code",
   "execution_count": 9,
   "metadata": {
    "collapsed": true
   },
   "outputs": [],
   "source": [
    "for point in data.values:\n",
    "    folium.Marker([pi, data['longitude'][i]], popup=data.date_time[i]).add_to(map_osm)"
   ]
  },
  {
   "cell_type": "code",
   "execution_count": 10,
   "metadata": {
    "collapsed": true
   },
   "outputs": [],
   "source": [
    "map_osm.save('data_taxi.html')"
   ]
  },
  {
   "cell_type": "markdown",
   "metadata": {},
   "source": [
    "### Teste Plot Graph Directed Edges"
   ]
  },
  {
   "cell_type": "code",
   "execution_count": 4,
   "metadata": {
    "collapsed": true
   },
   "outputs": [],
   "source": [
    "import networkx as nx\n",
    "import numpy as np\n",
    "import matplotlib.pyplot as plt"
   ]
  },
  {
   "cell_type": "code",
   "execution_count": 5,
   "metadata": {},
   "outputs": [
    {
     "data": {
      "text/html": [
       "<div>\n",
       "<style>\n",
       "    .dataframe thead tr:only-child th {\n",
       "        text-align: right;\n",
       "    }\n",
       "\n",
       "    .dataframe thead th {\n",
       "        text-align: left;\n",
       "    }\n",
       "\n",
       "    .dataframe tbody tr th {\n",
       "        vertical-align: top;\n",
       "    }\n",
       "</style>\n",
       "<table border=\"1\" class=\"dataframe\">\n",
       "  <thead>\n",
       "    <tr style=\"text-align: right;\">\n",
       "      <th></th>\n",
       "      <th>taxi_id</th>\n",
       "      <th>date_time</th>\n",
       "      <th>longitude</th>\n",
       "      <th>latitude</th>\n",
       "    </tr>\n",
       "  </thead>\n",
       "  <tbody>\n",
       "    <tr>\n",
       "      <th>0</th>\n",
       "      <td>100</td>\n",
       "      <td>2008-02-02 18:44:59</td>\n",
       "      <td>116.46956</td>\n",
       "      <td>39.87211</td>\n",
       "    </tr>\n",
       "    <tr>\n",
       "      <th>1</th>\n",
       "      <td>100</td>\n",
       "      <td>2008-02-02 18:46:14</td>\n",
       "      <td>116.47115</td>\n",
       "      <td>39.87062</td>\n",
       "    </tr>\n",
       "    <tr>\n",
       "      <th>2</th>\n",
       "      <td>100</td>\n",
       "      <td>2008-02-02 18:50:01</td>\n",
       "      <td>116.48475</td>\n",
       "      <td>39.86908</td>\n",
       "    </tr>\n",
       "    <tr>\n",
       "      <th>3</th>\n",
       "      <td>100</td>\n",
       "      <td>2008-02-02 18:51:16</td>\n",
       "      <td>116.48589</td>\n",
       "      <td>39.87436</td>\n",
       "    </tr>\n",
       "    <tr>\n",
       "      <th>4</th>\n",
       "      <td>100</td>\n",
       "      <td>2008-02-02 18:55:03</td>\n",
       "      <td>116.47371</td>\n",
       "      <td>39.87813</td>\n",
       "    </tr>\n",
       "  </tbody>\n",
       "</table>\n",
       "</div>"
      ],
      "text/plain": [
       "   taxi_id            date_time  longitude  latitude\n",
       "0      100  2008-02-02 18:44:59  116.46956  39.87211\n",
       "1      100  2008-02-02 18:46:14  116.47115  39.87062\n",
       "2      100  2008-02-02 18:50:01  116.48475  39.86908\n",
       "3      100  2008-02-02 18:51:16  116.48589  39.87436\n",
       "4      100  2008-02-02 18:55:03  116.47371  39.87813"
      ]
     },
     "execution_count": 5,
     "metadata": {},
     "output_type": "execute_result"
    }
   ],
   "source": [
    "data = pd.read_csv('../DATASET/010/100.txt', names=['taxi_id', 'date_time', 'longitude', 'latitude'])\n",
    "data.head()"
   ]
  },
  {
   "cell_type": "code",
   "execution_count": 6,
   "metadata": {},
   "outputs": [
    {
     "data": {
      "text/plain": [
       "array([[100, '2008-02-02 18:44:59', 116.46956000000002, 39.87211],\n",
       "       [100, '2008-02-02 18:46:14', 116.47115, 39.87062],\n",
       "       [100, '2008-02-02 18:50:01', 116.48475, 39.86908],\n",
       "       ..., \n",
       "       [100, '2008-02-08 15:24:20', 116.46943999999999, 39.87478],\n",
       "       [100, '2008-02-08 15:26:06', 116.47004, 39.87172],\n",
       "       [100, '2008-02-08 15:29:22', 116.46995, 39.872370000000004]], dtype=object)"
      ]
     },
     "execution_count": 6,
     "metadata": {},
     "output_type": "execute_result"
    }
   ],
   "source": [
    "data.values"
   ]
  },
  {
   "cell_type": "code",
   "execution_count": 2,
   "metadata": {},
   "outputs": [
    {
     "data": {
      "image/png": "[encoded data removed]",
      "text/plain": [
       "<matplotlib.figure.Figure at 0x7f32a2a36898>"
      ]
     },
     "metadata": {},
     "output_type": "display_data"
    }
   ],
   "source": [
    "g = nx.DiGraph()\n",
    "\n",
    "g.add_nodes_from(data['longitude'])\n",
    "\n",
    "for pos in data.values:\n",
    "    g.add_edge(pos[2], pos[3])\n",
    "\n",
    "g.add_edge()\n",
    "g.add_edge(1,2)\n",
    "\n",
    "nx.draw_networkx(g,with_labels=True)\n",
    "plt.draw()\n",
    "plt.show()\n",
    "\n",
    "\n",
    "#     BUGADO\n"
   ]
  }
 ],
 "metadata": {
  "kernelspec": {
   "display_name": "Python 3",
   "language": "python",
   "name": "python3"
  },
  "language_info": {
   "codemirror_mode": {
    "name": "ipython",
    "version": 3
   },
   "file_extension": ".py",
   "mimetype": "text/x-python",
   "name": "python",
   "nbconvert_exporter": "python",
   "pygments_lexer": "ipython3",
   "version": "3.6.1"
  }
 },
 "nbformat": 4,
 "nbformat_minor": 2
}
